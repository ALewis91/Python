{
  "nbformat": 4,
  "nbformat_minor": 0,
  "metadata": {
    "colab": {
      "name": "Assignment_1_2-2.ipynb",
      "version": "0.3.2",
      "provenance": [],
      "collapsed_sections": []
    },
    "language_info": {
      "codemirror_mode": {
        "name": "ipython",
        "version": 3
      },
      "file_extension": ".py",
      "mimetype": "text/x-python",
      "name": "python",
      "nbconvert_exporter": "python",
      "pygments_lexer": "ipython3",
      "version": "3.5.3"
    },
    "kernelspec": {
      "name": "python3",
      "display_name": "Python 3"
    },
    "accelerator": "GPU"
  },
  "cells": [
    {
      "cell_type": "markdown",
      "metadata": {
        "deletable": true,
        "editable": true,
        "id": "8QbWnfHuYShm",
        "colab_type": "text"
      },
      "source": [
        "<h2>Assignment 1 - Part 1: Linear Regression on Boston Housing Data</h2>\n",
        "\n",
        "You're asked to do the following tasks to predict boston house price:\n",
        "<lu>\n",
        "<li>Use scikit-learn</li>\n",
        "<li>Implement analytical solution (normal equation) to obtain weights</li>\n",
        "<li>Implement numerical solution (gradient descent) to obtain weights</li>\n",
        "</lu>\n",
        "    Note: the accuracy of your implementations should be close to that of a linear model from scikit-learn\n",
        "\n",
        "In addition, you need to show the resulting intercept and coefficents, calculate errors on training dataset and testing dataset, and plot a figure to show your predictions and real prices on the testing dataset. "
      ]
    },
    {
      "cell_type": "code",
      "metadata": {
        "deletable": true,
        "editable": true,
        "id": "udDUuzYMYSho",
        "colab_type": "code",
        "colab": {}
      },
      "source": [
        "# The modules we're going to use\n",
        "from __future__ import print_function\n",
        "from sklearn import preprocessing\n",
        "from sklearn.model_selection import train_test_split\n",
        "from sklearn import datasets, linear_model\n",
        "from scipy import linalg\n",
        "import numpy as np\n",
        "import matplotlib.pyplot as plt\n",
        "\n",
        "# When you execute a code to plot with a simple SHIFT-ENTER, the plot will be shown directly under the code cell\n",
        "%matplotlib inline"
      ],
      "execution_count": 0,
      "outputs": []
    },
    {
      "cell_type": "code",
      "metadata": {
        "deletable": true,
        "editable": true,
        "id": "pQmcUq1JYSht",
        "colab_type": "code",
        "colab": {}
      },
      "source": [
        "# Load data from scikit-learn, which returns (data, target)\n",
        "# note: if you call \"boston = load_boston()\", it returns a dictionary-like object\n",
        "data, target = datasets.load_boston(True)\n",
        "# Split the data into two parts: training data and testing data\n",
        "train_data,test_data,train_target,test_target = train_test_split(data,(target[:, np.newaxis]), test_size=0.2, random_state=42)"
      ],
      "execution_count": 0,
      "outputs": []
    },
    {
      "cell_type": "markdown",
      "metadata": {
        "deletable": true,
        "editable": true,
        "id": "9eu-IbEMYShw",
        "colab_type": "text"
      },
      "source": [
        "<h4>Use scikit-learn library in the following cell</h4>"
      ]
    },
    {
      "cell_type": "code",
      "metadata": {
        "deletable": true,
        "editable": true,
        "id": "Ro1O20veYShx",
        "colab_type": "code",
        "outputId": "84ba81c1-364a-4a26-e659-5ffb48afbdd4",
        "colab": {
          "base_uri": "https://localhost:8080/",
          "height": 550
        }
      },
      "source": [
        "# Task 1-1: use linear regression in sklearn\n",
        "model = linear_model.LinearRegression() # create a new linear regression model object\n",
        "model.fit(train_data, train_target)     # train the model to fit our training data and target\n",
        "\n",
        "# Task 1-2: show intercept and coefficents\n",
        "print(\"Intercept: \\n\", model.intercept_) # print the intercept of the model (bias)\n",
        "print()\n",
        "print(\"Coefficients: \\n\", model.coef_)   # print the coefficients of the model (weights)\n",
        "print()\n",
        "\n",
        "# Task 1-3: show errors on training dataset and testing dataset\n",
        "def mean_squared_error(actual, predicted):      # method to calculate MSE\n",
        "    return 1/(2*actual.shape[0])*((actual-predicted).T.dot(actual-predicted))\n",
        "  \n",
        "train_pred = model.predict(train_data)                      # predict prices from training data\n",
        "train_error = mean_squared_error(train_target, train_pred)  # calc error from training data predictions\n",
        "print(\"Training Error:\\n\", train_error)                     # print training data prediction error\n",
        "test_pred = model.predict(test_data)                        # predict prices from testing data\n",
        "test_error = mean_squared_error(test_target, test_pred)     # calc error from testing data predictions\n",
        "print(\"Testing Error:\\n\", test_error)                       # print testing data prediction error\n",
        "print()\n",
        "\n",
        "# Task 1-4: show plot a figure to show your predictions and real prices on the testing dataset\n",
        "plt.title(\"Predicted Prices vs Actual Prices\")   # set title for figure\n",
        "plt.scatter(test_target, test_pred, color='b')   # plot predicted prices over actual prices\n",
        "plt.plot([0, 50], [0, 50])                       # plot y=x for reference\n",
        "plt.xlabel('Actual price')                       # set x-axis label\n",
        "plt.ylabel('Predicted price')                    # set y-axis label"
      ],
      "execution_count": 8,
      "outputs": [
        {
          "output_type": "stream",
          "text": [
            "Intercept: \n",
            " [30.24675099]\n",
            "\n",
            "Coefficients: \n",
            " [[-1.13055924e-01  3.01104641e-02  4.03807204e-02  2.78443820e+00\n",
            "  -1.72026334e+01  4.43883520e+00 -6.29636221e-03 -1.44786537e+00\n",
            "   2.62429736e-01 -1.06467863e-02 -9.15456240e-01  1.23513347e-02\n",
            "  -5.08571424e-01]]\n",
            "\n",
            "Training Error:\n",
            " [[10.82070638]]\n",
            "Testing Error:\n",
            " [[12.14555974]]\n",
            "\n"
          ],
          "name": "stdout"
        },
        {
          "output_type": "execute_result",
          "data": {
            "text/plain": [
              "Text(0, 0.5, 'Predicted price')"
            ]
          },
          "metadata": {
            "tags": []
          },
          "execution_count": 8
        },
        {
          "output_type": "display_data",
          "data": {
            "image/png": "[encoded data removed]",
            "text/plain": [
              "<Figure size 432x288 with 1 Axes>"
            ]
          },
          "metadata": {
            "tags": []
          }
        }
      ]
    },
    {
      "cell_type": "markdown",
      "metadata": {
        "deletable": true,
        "editable": true,
        "id": "62_LMOCHYShz",
        "colab_type": "text"
      },
      "source": [
        "<h4>Use analytical solution (normal equation) to perform linear regression in the following cell</h4>"
      ]
    },
    {
      "cell_type": "code",
      "metadata": {
        "deletable": true,
        "editable": true,
        "id": "RW4p7x6qYSh0",
        "colab_type": "code",
        "outputId": "fc46a872-b2fe-493e-baaa-4c6d749b19ff",
        "colab": {
          "base_uri": "https://localhost:8080/",
          "height": 703
        }
      },
      "source": [
        "# Task 2-1: Implement a function solving normal equation \n",
        "# Inputs: Training data and  training label\n",
        "# Output: Weights\n",
        "def myNormalEqualFun(X,y):\n",
        "    return np.linalg.inv(X.T.dot(X)).dot(X.T).dot(y) # implement analytical solution to find optimal weights\n",
        "    \n",
        "# Task 2-2: Implement a function performing prediction\n",
        "# Inputs: Testing data and weights\n",
        "# Output: Predictions\n",
        "def myPredictFun(X,w):\n",
        "    return X.dot(w) # get dot product of feature values and weights to get predictions\n",
        "\n",
        "# Here we insert a column of 1s into training_data and test_data (to be consistent with our lecture slides)\n",
        "train_data_intercept = np.insert(train_data, 0, 1, axis=1)\n",
        "test_data_intercept = np.insert(test_data, 0, 1, axis=1)\n",
        "\n",
        "# Here we call myNormalEqual to train the model and get weights\n",
        "w = myNormalEqualFun(train_data_intercept,train_target)\n",
        "\n",
        "# Task 2-3: show intercept and coefficents\n",
        "print(\"Intercept:\\n\", w[0])     # print the intercept (bias)\n",
        "print()\n",
        "print(\"Coefficients:\\n\", w[1:]) # print coefficients (weights)\n",
        "print()\n",
        "\n",
        "# Task 2-4: show errors on training dataset and testing dataset\n",
        "def mean_squared_error(actual, predicted):    # method to calculate MSE\n",
        "    return 1/(2*actual.shape[0])*((actual-predicted).T.dot(actual-predicted))\n",
        "  \n",
        "train_pred = myPredictFun(train_data_intercept, w)         # store predictions from training dataset\n",
        "train_error = mean_squared_error(train_target, train_pred) # calc MSE for predictions from training data\n",
        "print(\"Training error:\\n\", train_error)                    # print error from training dataset predictions\n",
        "test_pred = myPredictFun(test_data_intercept, w)           # store predictions from testing dataset\n",
        "test_error = mean_squared_error(test_target, test_pred)    # calc MSE for predictions from testing dataset\n",
        "print(\"Testing error:\\n\", test_error)                      # print error from testing dataset predictions\n",
        "print()\n",
        "\n",
        "# Task 2-5: show plot a figure to show your predictions and real prices on the testing dataset\n",
        "plt.title(\"Predicted Prices vs Actual Prices\")  # set title of figure\n",
        "plt.scatter(test_target, test_pred, color='g')  # plot price predictions over actual prices\n",
        "plt.plot([0, 50], [0, 50])                      # plot line y=x for reference\n",
        "plt.xlabel('Actual price')                      # set x-axis label\n",
        "plt.ylabel('Predicted price')                   # set y-axis label"
      ],
      "execution_count": 9,
      "outputs": [
        {
          "output_type": "stream",
          "text": [
            "Intercept:\n",
            " [30.24675099]\n",
            "\n",
            "Coefficients:\n",
            " [[-1.13055924e-01]\n",
            " [ 3.01104641e-02]\n",
            " [ 4.03807204e-02]\n",
            " [ 2.78443820e+00]\n",
            " [-1.72026334e+01]\n",
            " [ 4.43883520e+00]\n",
            " [-6.29636221e-03]\n",
            " [-1.44786537e+00]\n",
            " [ 2.62429736e-01]\n",
            " [-1.06467863e-02]\n",
            " [-9.15456240e-01]\n",
            " [ 1.23513347e-02]\n",
            " [-5.08571424e-01]]\n",
            "\n",
            "Training error:\n",
            " [[10.82070638]]\n",
            "Testing error:\n",
            " [[12.14555974]]\n",
            "\n"
          ],
          "name": "stdout"
        },
        {
          "output_type": "execute_result",
          "data": {
            "text/plain": [
              "Text(0, 0.5, 'Predicted price')"
            ]
          },
          "metadata": {
            "tags": []
          },
          "execution_count": 9
        },
        {
          "output_type": "display_data",
          "data": {
            "image/png": "[encoded data removed]",
            "text/plain": [
              "<Figure size 432x288 with 1 Axes>"
            ]
          },
          "metadata": {
            "tags": []
          }
        }
      ]
    },
    {
      "cell_type": "markdown",
      "metadata": {
        "deletable": true,
        "editable": true,
        "id": "DjHu_N3lYSh3",
        "colab_type": "text"
      },
      "source": [
        "<h4>Use numerical solution (gradient descent) to perform linear regression in the following cell</h4>"
      ]
    },
    {
      "cell_type": "code",
      "metadata": {
        "deletable": true,
        "editable": true,
        "id": "aBxSyzRxYSh4",
        "colab_type": "code",
        "outputId": "a8dc0019-3ca1-4d1b-a818-d2e2cb5e776f",
        "colab": {
          "base_uri": "https://localhost:8080/",
          "height": 703
        }
      },
      "source": [
        "# Feature scaling\n",
        "scaler = preprocessing.StandardScaler().fit(train_data)\n",
        "train_data = scaler.transform(train_data)\n",
        "test_data = scaler.transform(test_data)\n",
        "\n",
        "# Task 3-1: Implement a function performing gradient descent\n",
        "# Inputs: Training data, training label, leaerning rate, number of iterations\n",
        "# Output: Weights\n",
        "def myGradientDescentFun(X,y,learning_rate,numItrs):\n",
        "    w = np.random.rand(X.shape[1], 1)  # initialize weights to random values\n",
        "    for i in range(numItrs):           # adjust weights for numItrs iterations\n",
        "        w = w + learning_rate*(1/X.shape[0])*X.T.dot(y - X.dot(w)) # adjust w based on the error and the learning rate\n",
        "    return w     # return the revised weights\n",
        "\n",
        "# Task 3-2: Implement a function performing prediction\n",
        "# Inputs: Testing data and weights\n",
        "# Output: Predictions\n",
        "def myPredictFun(X,w):\n",
        "    return X.dot(w)    # get predictions from dot product of feature values and weights\n",
        "\n",
        "# Here we insert a column of 1s into training_data and test_data (to be consistent with our lecture slides)\n",
        "train_data_intercept = np.insert(train_data, 0, 1, axis=1)\n",
        "test_data_intercept = np.insert(test_data, 0, 1, axis=1)\n",
        "\n",
        "# Here we call myGradientDescentFun to train the model and get weights\n",
        "# Note: you need to figure out good learning rate value and the number of iterations\n",
        "w = myGradientDescentFun(train_data_intercept,train_target,.01, 2500)\n",
        "\n",
        "# Task 3-3: show intercept and coefficents\n",
        "print('Intercept:\\n', w[0])        # print intercept (bias) for scaled features\n",
        "print()\n",
        "print('Coefficients:\\n', w[1:])   # print coefficients (weights) for scaled features\n",
        "print()\n",
        "\n",
        "# Task 3-4: show errors on training dataset and testing dataset\n",
        "def mean_squared_error(actual, predicted):     # method to calc MSE\n",
        "    return 1/(2*actual.shape[0])*((actual-predicted).T.dot(actual-predicted))\n",
        "  \n",
        "train_pred = myPredictFun(train_data_intercept, w)         # store training data price predictions\n",
        "train_error = mean_squared_error(train_target, train_pred) # calc MSE for training data predictions\n",
        "print('Training error:\\n', train_error)                    # print training data prediction error\n",
        "\n",
        "test_pred = myPredictFun(test_data_intercept, w)           # store testing data price predictions\n",
        "test_error = mean_squared_error(test_target, test_pred)    # calc MSE for testing data predictions\n",
        "print('Testing error:\\n', test_error)                      # print testing data prediction error\n",
        "print()\n",
        "\n",
        "# Task 3-5: show plot a figure to show your predictions and real prices on the testing dataset\n",
        "plt.title(\"Predicted Prices vs Actual Prices\")   # add title to figure\n",
        "plt.scatter(test_target, test_pred, color='r')   # plot price predictions for test data over actual prices\n",
        "plt.plot([0, 50], [0, 50])                       # plot y=x for reference\n",
        "plt.xlabel('Actual price')                       # add x-axis label\n",
        "plt.ylabel('Predicted price')                    # add y-axis label"
      ],
      "execution_count": 15,
      "outputs": [
        {
          "output_type": "stream",
          "text": [
            "Intercept:\n",
            " [22.79653465]\n",
            "\n",
            "Coefficients:\n",
            " [[-0.96991893]\n",
            " [ 0.62647406]\n",
            " [ 0.16103765]\n",
            " [ 0.73542364]\n",
            " [-1.96479508]\n",
            " [ 3.18060781]\n",
            " [-0.18737117]\n",
            " [-3.02842217]\n",
            " [ 1.89746071]\n",
            " [-1.38838366]\n",
            " [-2.01868102]\n",
            " [ 1.1289832 ]\n",
            " [-3.59772468]]\n",
            "\n",
            "Training error:\n",
            " [[10.83033976]]\n",
            "Testing error:\n",
            " [[12.26636545]]\n",
            "\n"
          ],
          "name": "stdout"
        },
        {
          "output_type": "execute_result",
          "data": {
            "text/plain": [
              "Text(0, 0.5, 'Predicted price')"
            ]
          },
          "metadata": {
            "tags": []
          },
          "execution_count": 15
        },
        {
          "output_type": "display_data",
          "data": {
            "image/png": "[encoded data removed]",
            "text/plain": [
              "<Figure size 432x288 with 1 Axes>"
            ]
          },
          "metadata": {
            "tags": []
          }
        }
      ]
    },
    {
      "cell_type": "code",
      "metadata": {
        "id": "QSB-ziK_4JKo",
        "colab_type": "code",
        "colab": {}
      },
      "source": [
        ""
      ],
      "execution_count": 0,
      "outputs": []
    }
  ]
}
